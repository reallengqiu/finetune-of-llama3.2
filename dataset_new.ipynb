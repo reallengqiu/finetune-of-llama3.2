{
 "cells": [
  {
   "cell_type": "code",
   "execution_count": 4,
   "metadata": {},
   "outputs": [
    {
     "name": "stderr",
     "output_type": "stream",
     "text": [
      "Processing dataset: 100%|██████████| 2585/2585 [00:16<00:00, 157.73it/s]\n"
     ]
    },
    {
     "name": "stdout",
     "output_type": "stream",
     "text": [
      "Dataset saved to ./dataset.parquet\n"
     ]
    }
   ],
   "source": [
    "from datasets import Dataset, Features, Value\n",
    "import json\n",
    "from PIL import Image\n",
    "import os\n",
    "import numpy as np\n",
    "from tqdm import tqdm\n",
    "import pandas as pd\n",
    "import pyarrow as pa\n",
    "import pyarrow.parquet as pq\n",
    "\n",
    "# 读取图像并转换为字节流\n",
    "def load_image_as_bytes(image_path):\n",
    "    image = Image.open(image_path)\n",
    "    # 调整图像大小（如果需要）\n",
    "    image = image.resize((512, 512))  # 确保图像大小一致\n",
    "    image_array = np.array(image)\n",
    "    # 将 NumPy 数组转换为字节流\n",
    "    return image_array.tobytes()\n",
    "\n",
    "# 读取JSON文件并构建数据集\n",
    "def load_custom_dataset(json_file_path, image_folder_path):\n",
    "    with open(json_file_path, 'r') as f:\n",
    "        data = json.load(f)\n",
    "    \n",
    "    dataset_data = {\n",
    "        \"image_name\": [],\n",
    "        \"caption\": [],\n",
    "        \"image\": [],\n",
    "    }\n",
    "    \n",
    "    # 使用 tqdm 显示进度条\n",
    "    for idx in tqdm(range(len(data[\"annotations\"])), desc=\"Processing dataset\"):\n",
    "        annotation = data[\"annotations\"][idx]\n",
    "        image_path = os.path.join(image_folder_path, annotation[\"filename\"])\n",
    "        \n",
    "        dataset_data[\"image_name\"].append(annotation[\"filename\"])\n",
    "        dataset_data[\"caption\"].append(annotation[\"caption\"])\n",
    "        dataset_data[\"image\"].append(load_image_as_bytes(image_path))\n",
    "    \n",
    "    # 定义数据集的特征\n",
    "    features = Features({\n",
    "        \"image_name\": Value(\"string\"),\n",
    "        \"caption\": Value(\"string\"),\n",
    "        \"image\": Value(\"binary\")  # 图像数据存储为字节流\n",
    "    })\n",
    "    \n",
    "    # 创建数据集\n",
    "    dataset = Dataset.from_dict(dataset_data, features=features)\n",
    "    return dataset\n",
    "\n",
    "# 将 Dataset 转换为 Parquet 文件\n",
    "def dataset_to_parquet(dataset, output_path):\n",
    "    # 将 Dataset 转换为 Pandas DataFrame\n",
    "    df = dataset.to_pandas()\n",
    "    \n",
    "    # 创建 PyArrow Table\n",
    "    table = pa.Table.from_pandas(df)\n",
    "    \n",
    "    # 保存为 Parquet 文件\n",
    "    pq.write_table(table, output_path)\n",
    "\n",
    "# 调用\n",
    "json_file_path = \"./data/RSICap/captions.json\"  # JSON文件路径\n",
    "image_folder_path = \"./data/RSICap/images/\"  # 图片文件夹路径\n",
    "dataset = load_custom_dataset(json_file_path, image_folder_path)\n",
    "\n",
    "# 保存为 Parquet 文件\n",
    "output_parquet_path = \"./dataset.parquet\"\n",
    "dataset_to_parquet(dataset, output_parquet_path)\n",
    "print(f\"Dataset saved to {output_parquet_path}\")"
   ]
  },
  {
   "cell_type": "code",
   "execution_count": 5,
   "metadata": {},
   "outputs": [
    {
     "name": "stdout",
     "output_type": "stream",
     "text": [
      "       image_name                                            caption  \\\n",
      "0  P0378_0001.png  This is an aerial image showing a parking lot ...   \n",
      "1  P1077_0002.png  This is a remote sensing image shows an outdoo...   \n",
      "2  P1140_0085.png  There are four planes parked in an open field,...   \n",
      "3  P0363_0005.png  This is a aerial image of a neighborhood with ...   \n",
      "4  P2686_0095.png  This is a remote sensing image with high resol...   \n",
      "\n",
      "                                               image  \n",
      "0  b'\\x00\\x00\\x00\\x00\\x00\\x00\\x00\\x00\\x00\\x00\\x00...  \n",
      "1  b'npZvxb~\\x80j{}glnX`bL_aK_cL^cL]bK^cL`eNdiRgl...  \n",
      "2  b'@L^?Ka?Lg@Ok?Rm<Uq;Wt:Zv@b}Op\\x89c\\x81\\x9bx\\...  \n",
      "3  b'X<9O:2R<5\\\\C=eJDgKFZ<8hJEgID`C>\\\\A;T:4U=6lVN...  \n",
      "4  b'\\x84\\x9e{\\x85\\x9d{\\x8a\\x9f~\\x8b\\x9c|\\x83\\x93...  \n"
     ]
    }
   ],
   "source": [
    "# 加载保存的 Parquet 文件\n",
    "loaded_df = pd.read_parquet(\"dataset.parquet\")\n",
    "\n",
    "# 查看前几条记录\n",
    "print(loaded_df.head())"
   ]
  },
  {
   "cell_type": "code",
   "execution_count": 2,
   "metadata": {},
   "outputs": [
    {
     "name": "stderr",
     "output_type": "stream",
     "text": [
      "/opt/anaconda3/envs/multillama/lib/python3.11/site-packages/tqdm/auto.py:21: TqdmWarning: IProgress not found. Please update jupyter and ipywidgets. See https://ipywidgets.readthedocs.io/en/stable/user_install.html\n",
      "  from .autonotebook import tqdm as notebook_tqdm\n",
      "Map (num_proc=6): 100%|██████████| 2585/2585 [01:54<00:00, 22.56 examples/s]  "
     ]
    },
    {
     "name": "stdout",
     "output_type": "stream",
     "text": [
      "Image conversion successful.\n",
      "<PIL.PngImagePlugin.PngImageFile image mode=RGB size=512x512 at 0x7C10ECAEF1D0>\n"
     ]
    },
    {
     "name": "stderr",
     "output_type": "stream",
     "text": [
      "\n"
     ]
    },
    {
     "data": {
      "text/plain": [
       "{'image_name': 'P0378_0001.png',\n",
       " 'caption': \"This is an aerial image showing a parking lot with a high resolution. In the parking lot, there are many vehicles, including cars, trucks, and buses. Specifically, thirty-seven large-vehicles and fourteen small-vehicles can be observed in the image. Some of them are parked in rows, and others are parked in random positions. In the image's bottom-right, the trucks and buses are parked in a line, with some facing the same direction and some facing the opposite direction. Some of the trucks and buses are white, while others are yellow. Overall, the parking lot is filled with a variety of vehicles. There is a structure in the image's top left and two roadside green belts at the bottom of the image. The image shows a sunny day since we can see the shadow of the vehicles and trees.\",\n",
       " 'image': <PIL.PngImagePlugin.PngImageFile image mode=RGB size=512x512>}"
      ]
     },
     "execution_count": 2,
     "metadata": {},
     "output_type": "execute_result"
    }
   ],
   "source": [
    "from datasets import load_dataset, Features, Value, Image\n",
    "import numpy as np\n",
    "from PIL import Image as PILImage\n",
    "\n",
    "# 读取 Parquet 文件\n",
    "def load_parquet_dataset(file_path):\n",
    "    dataset = load_dataset(\"parquet\", data_files=file_path)\n",
    "    return dataset\n",
    "\n",
    "# 恢复图像数据\n",
    "def bytes_to_image(byte_data, shape=(512, 512, 3), dtype=np.uint8):\n",
    "    try:\n",
    "        # 将字节流转换为 NumPy 数组\n",
    "        image_array = np.frombuffer(byte_data, dtype=dtype)\n",
    "        # 重塑数组为图像形状\n",
    "        image_array = image_array.reshape(shape)\n",
    "        # 创建图像对象\n",
    "        image = PILImage.fromarray(image_array)\n",
    "        return image\n",
    "    except Exception as e:\n",
    "        print(f\"Error converting byte data to image: {e}\")\n",
    "        return None\n",
    "\n",
    "parquet_file_path = \"./dataset.parquet\"\n",
    "dataset = load_parquet_dataset(parquet_file_path)\n",
    "\n",
    "# 使用 map 方法将字节流转换为图像对象\n",
    "try:\n",
    "    dataset = dataset.map(\n",
    "        lambda x: {\"image\": bytes_to_image(x[\"image\"])},\n",
    "        batched=False,\n",
    "        num_proc=6  # 使用 4 个进程并行处理\n",
    "    )\n",
    "except Exception as e:\n",
    "    print(f\"Error during map operation: {e}\")\n",
    "\n",
    "# 重新定义数据集的特征\n",
    "features = Features({\n",
    "    \"image_name\": Value(\"string\"),\n",
    "    \"caption\": Value(\"string\"),\n",
    "    \"image\": Image()  \n",
    "})\n",
    "\n",
    "# 将数据集转换为新的特征\n",
    "dataset = dataset.cast(features)\n",
    "\n",
    "# 验证转换后的图像数据\n",
    "for sample in dataset[\"train\"]:\n",
    "    if isinstance(sample[\"image\"], PILImage.Image):\n",
    "        print(\"Image conversion successful.\")\n",
    "        print(sample[\"image\"])  # 打印图像对象\n",
    "        break\n",
    "    else:\n",
    "        print(\"Image conversion failed.\")\n",
    "        break\n",
    "\n",
    "dataset['train'][0]"
   ]
  },
  {
   "cell_type": "markdown",
   "metadata": {},
   "source": []
  },
  {
   "cell_type": "code",
   "execution_count": 6,
   "metadata": {},
   "outputs": [
    {
     "data": {
      "text/plain": [
       "{'image_name': 'P2691_0130.png',\n",
       " 'caption': 'This is an aerial image of a parking lot. In the bottom right corner of the image, there is a parking lot with many parked cars. There is a white building near the parking lot. In the top left corner of the image, there is a piece of wasteland. A road runs through the wasteland.',\n",
       " 'image': <PIL.PngImagePlugin.PngImageFile image mode=RGB size=512x512>}"
      ]
     },
     "execution_count": 6,
     "metadata": {},
     "output_type": "execute_result"
    }
   ],
   "source": [
    "from datasets import DatasetDict\n",
    "\n",
    "# 按照 80%, 10%, 10% 的比例划分数据集\n",
    "train_test_split = dataset[\"train\"].train_test_split(test_size=0.2, seed=42)\n",
    "train_dataset = train_test_split[\"train\"]\n",
    "\n",
    "validation_test_split = train_test_split[\"test\"].train_test_split(test_size=0.5, seed=42)\n",
    "validation_dataset = validation_test_split[\"train\"]\n",
    "test_dataset = validation_test_split[\"test\"]\n",
    "\n",
    "# 创建一个新的 DatasetDict\n",
    "dataset_dict = DatasetDict({\n",
    "    \"train\": train_dataset,\n",
    "    \"validation\": validation_dataset,\n",
    "    \"test\": test_dataset\n",
    "})\n",
    "\n",
    "dataset_dict[\"train\"][0]"
   ]
  }
 ],
 "metadata": {
  "kernelspec": {
   "display_name": "multillama",
   "language": "python",
   "name": "python3"
  },
  "language_info": {
   "codemirror_mode": {
    "name": "ipython",
    "version": 3
   },
   "file_extension": ".py",
   "mimetype": "text/x-python",
   "name": "python",
   "nbconvert_exporter": "python",
   "pygments_lexer": "ipython3",
   "version": "3.11.11"
  }
 },
 "nbformat": 4,
 "nbformat_minor": 2
}
